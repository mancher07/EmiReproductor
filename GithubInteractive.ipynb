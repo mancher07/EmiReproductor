{
  "nbformat": 4,
  "nbformat_minor": 0,
  "metadata": {
    "colab": {
      "provenance": [],
      "authorship_tag": "ABX9TyPnv6TaTkXoyS/bsxQHEPhw",
      "include_colab_link": true
    },
    "kernelspec": {
      "name": "python3",
      "display_name": "Python 3"
    },
    "language_info": {
      "name": "python"
    }
  },
  "cells": [
    {
      "cell_type": "markdown",
      "metadata": {
        "id": "view-in-github",
        "colab_type": "text"
      },
      "source": [
        "<a href=\"https://colab.research.google.com/github/mancher07/EmiReproductor/blob/main/GithubInteractive.ipynb\" target=\"_parent\"><img src=\"https://colab.research.google.com/assets/colab-badge.svg\" alt=\"Open In Colab\"/></a>"
      ]
    },
    {
      "cell_type": "code",
      "execution_count": 1,
      "metadata": {
        "id": "7AyTZxYivXcW"
      },
      "outputs": [],
      "source": [
        "!git config --global user.name \"mancher777\"\n",
        "!git config --global user.email \"sademisad1@gmail.com\""
      ]
    },
    {
      "cell_type": "code",
      "source": [
        "!ssh-keygen -t ed25519 -C \"sademisad1@gmail.com\" -f ~/.ssh/id_ed25519 -N \"\""
      ],
      "metadata": {
        "colab": {
          "base_uri": "https://localhost:8080/"
        },
        "id": "-4zyrAEVvjiE",
        "outputId": "0266266b-12e0-4261-db21-7012ba4a9434"
      },
      "execution_count": 2,
      "outputs": [
        {
          "output_type": "stream",
          "name": "stdout",
          "text": [
            "Generating public/private ed25519 key pair.\n",
            "Created directory '/root/.ssh'.\r\n",
            "Your identification has been saved in /root/.ssh/id_ed25519\n",
            "Your public key has been saved in /root/.ssh/id_ed25519.pub\n",
            "The key fingerprint is:\n",
            "SHA256:TUK1sYcrGU9oLFpqoHL8dm3MpP8QWNQtCVg2fIiZf9s sademisad1@gmail.com\n",
            "The key's randomart image is:\n",
            "+--[ED25519 256]--+\n",
            "|       BB=oo     |\n",
            "|      ==oo==.    |\n",
            "|  .   o.B.*..    |\n",
            "| o . + =.O.o     |\n",
            "|o o + . S.+o     |\n",
            "|.. o   * o. E    |\n",
            "|    o o *        |\n",
            "|   . . o .       |\n",
            "|        ...      |\n",
            "+----[SHA256]-----+\n"
          ]
        }
      ]
    },
    {
      "cell_type": "code",
      "source": [
        "!cat ~/.ssh/id_ed25519.pub"
      ],
      "metadata": {
        "colab": {
          "base_uri": "https://localhost:8080/"
        },
        "id": "J4TbwLzCvxL5",
        "outputId": "c281f9b4-7f67-4dc0-fa49-9769059a1e67"
      },
      "execution_count": 3,
      "outputs": [
        {
          "output_type": "stream",
          "name": "stdout",
          "text": [
            "ssh-ed25519 AAAAC3NzaC1lZDI1NTE5AAAAIOkY3P0GAK49WjCpmQ9vVWcqo9ZrjrJ/bUiqAEHkn+Rs sademisad1@gmail.com\n"
          ]
        }
      ]
    },
    {
      "cell_type": "code",
      "source": [
        "!eval \"$(ssh-agent -s)\"\n",
        "!ssh-add ~/.ssh/id_ed25519"
      ],
      "metadata": {
        "colab": {
          "base_uri": "https://localhost:8080/"
        },
        "id": "bDGfd3erv2kA",
        "outputId": "cade407e-107d-46c9-ffdb-4ab06a7f1ce7"
      },
      "execution_count": 10,
      "outputs": [
        {
          "output_type": "stream",
          "name": "stdout",
          "text": [
            "Agent pid 3943\n",
            "Could not open a connection to your authentication agent.\n"
          ]
        }
      ]
    },
    {
      "cell_type": "code",
      "source": [
        "%cd diffusers"
      ],
      "metadata": {
        "colab": {
          "base_uri": "https://localhost:8080/"
        },
        "id": "b0mZ8vdSyGJ1",
        "outputId": "313b5269-df45-4fe4-aa3a-b9c2cef624bc"
      },
      "execution_count": 12,
      "outputs": [
        {
          "output_type": "stream",
          "name": "stdout",
          "text": [
            "/content/diffusers\n"
          ]
        }
      ]
    },
    {
      "cell_type": "code",
      "source": [
        "!git remote set-url origin git@github.com:mancher07/blasfemia.git"
      ],
      "metadata": {
        "id": "ZOHj6H-szOTP"
      },
      "execution_count": 14,
      "outputs": []
    },
    {
      "cell_type": "code",
      "source": [
        "!git push origin main"
      ],
      "metadata": {
        "colab": {
          "base_uri": "https://localhost:8080/"
        },
        "id": "_WJiQy06zXVp",
        "outputId": "5af04f1a-c1ec-4c74-acd4-f5482f7139a6"
      },
      "execution_count": 15,
      "outputs": [
        {
          "output_type": "stream",
          "name": "stdout",
          "text": [
            "Enumerating objects: 49224, done.\n",
            "Counting objects:   0% (1/49224)\rCounting objects:   1% (493/49224)\rCounting objects:   2% (985/49224)\rCounting objects:   3% (1477/49224)\rCounting objects:   4% (1969/49224)\rCounting objects:   5% (2462/49224)\rCounting objects:   6% (2954/49224)\rCounting objects:   7% (3446/49224)\rCounting objects:   8% (3938/49224)\rCounting objects:   9% (4431/49224)\rCounting objects:  10% (4923/49224)\rCounting objects:  11% (5415/49224)\rCounting objects:  12% (5907/49224)\rCounting objects:  13% (6400/49224)\rCounting objects:  14% (6892/49224)\rCounting objects:  15% (7384/49224)\rCounting objects:  16% (7876/49224)\rCounting objects:  17% (8369/49224)\rCounting objects:  18% (8861/49224)\rCounting objects:  19% (9353/49224)\rCounting objects:  20% (9845/49224)\rCounting objects:  21% (10338/49224)\rCounting objects:  22% (10830/49224)\rCounting objects:  23% (11322/49224)\rCounting objects:  24% (11814/49224)\rCounting objects:  25% (12306/49224)\rCounting objects:  26% (12799/49224)\rCounting objects:  27% (13291/49224)\rCounting objects:  28% (13783/49224)\rCounting objects:  29% (14275/49224)\rCounting objects:  30% (14768/49224)\rCounting objects:  31% (15260/49224)\rCounting objects:  32% (15752/49224)\rCounting objects:  33% (16244/49224)\rCounting objects:  34% (16737/49224)\rCounting objects:  35% (17229/49224)\rCounting objects:  36% (17721/49224)\rCounting objects:  37% (18213/49224)\rCounting objects:  38% (18706/49224)\rCounting objects:  39% (19198/49224)\rCounting objects:  40% (19690/49224)\rCounting objects:  41% (20182/49224)\rCounting objects:  42% (20675/49224)\rCounting objects:  43% (21167/49224)\rCounting objects:  44% (21659/49224)\rCounting objects:  45% (22151/49224)\rCounting objects:  46% (22644/49224)\rCounting objects:  47% (23136/49224)\rCounting objects:  48% (23628/49224)\rCounting objects:  49% (24120/49224)\rCounting objects:  50% (24612/49224)\rCounting objects:  51% (25105/49224)\rCounting objects:  52% (25597/49224)\rCounting objects:  53% (26089/49224)\rCounting objects:  54% (26581/49224)\rCounting objects:  55% (27074/49224)\rCounting objects:  56% (27566/49224)\rCounting objects:  57% (28058/49224)\rCounting objects:  58% (28550/49224)\rCounting objects:  59% (29043/49224)\rCounting objects:  60% (29535/49224)\rCounting objects:  61% (30027/49224)\rCounting objects:  62% (30519/49224)\rCounting objects:  63% (31012/49224)\rCounting objects:  64% (31504/49224)\rCounting objects:  65% (31996/49224)\rCounting objects:  66% (32488/49224)\rCounting objects:  67% (32981/49224)\rCounting objects:  68% (33473/49224)\rCounting objects:  69% (33965/49224)\rCounting objects:  70% (34457/49224)\rCounting objects:  71% (34950/49224)\rCounting objects:  72% (35442/49224)\rCounting objects:  73% (35934/49224)\rCounting objects:  74% (36426/49224)\rCounting objects:  75% (36918/49224)\rCounting objects:  76% (37411/49224)\rCounting objects:  77% (37903/49224)\rCounting objects:  78% (38395/49224)\rCounting objects:  79% (38887/49224)\rCounting objects:  80% (39380/49224)\rCounting objects:  81% (39872/49224)\rCounting objects:  82% (40364/49224)\rCounting objects:  83% (40856/49224)\rCounting objects:  84% (41349/49224)\rCounting objects:  85% (41841/49224)\rCounting objects:  86% (42333/49224)\rCounting objects:  87% (42825/49224)\rCounting objects:  88% (43318/49224)\rCounting objects:  89% (43810/49224)\rCounting objects:  90% (44302/49224)\rCounting objects:  91% (44794/49224)\rCounting objects:  92% (45287/49224)\rCounting objects:  93% (45779/49224)\rCounting objects:  94% (46271/49224)\rCounting objects:  95% (46763/49224)\rCounting objects:  96% (47256/49224)\rCounting objects:  97% (47748/49224)\rCounting objects:  98% (48240/49224)\rCounting objects:  99% (48732/49224)\rCounting objects: 100% (49224/49224)\rCounting objects: 100% (49224/49224), done.\n",
            "Delta compression using up to 2 threads\n",
            "Compressing objects: 100% (10039/10039), done.\n",
            "Writing objects: 100% (49224/49224), 42.25 MiB | 8.91 MiB/s, done.\n",
            "Total 49224 (delta 36470), reused 49212 (delta 36467), pack-reused 0\n",
            "remote: Resolving deltas: 100% (36470/36470), done.\u001b[K\n",
            "To github.com:mancher07/blasfemia.git\n",
            " * [new branch]          main -> main\n"
          ]
        }
      ]
    },
    {
      "cell_type": "code",
      "source": [
        "!ssh-keyscan github.com >> ~/.ssh/known_hosts"
      ],
      "metadata": {
        "colab": {
          "base_uri": "https://localhost:8080/"
        },
        "id": "5NQc7L_txp3c",
        "outputId": "bc180dc0-b61d-45e5-9916-422363a39739"
      },
      "execution_count": 7,
      "outputs": [
        {
          "output_type": "stream",
          "name": "stdout",
          "text": [
            "# github.com:22 SSH-2.0-babeld-ceb3dcb73\n",
            "# github.com:22 SSH-2.0-babeld-ceb3dcb73\n",
            "# github.com:22 SSH-2.0-babeld-ceb3dcb73\n",
            "# github.com:22 SSH-2.0-babeld-ceb3dcb73\n",
            "# github.com:22 SSH-2.0-babeld-ceb3dcb73\n"
          ]
        }
      ]
    },
    {
      "cell_type": "code",
      "source": [
        "!ssh -T git@github.com"
      ],
      "metadata": {
        "colab": {
          "base_uri": "https://localhost:8080/"
        },
        "id": "Zlm7T_gfxLCR",
        "outputId": "5ddd01b7-7b06-48cf-f5c9-7ffdcf64a07f"
      },
      "execution_count": 9,
      "outputs": [
        {
          "output_type": "stream",
          "name": "stdout",
          "text": [
            "Hi mancher07! You've successfully authenticated, but GitHub does not provide shell access.\n"
          ]
        }
      ]
    }
  ]
}