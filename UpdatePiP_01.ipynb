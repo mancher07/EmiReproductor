{
  "nbformat": 4,
  "nbformat_minor": 0,
  "metadata": {
    "colab": {
      "provenance": [],
      "authorship_tag": "ABX9TyNn9cS3sI49xXy3ocEphkyP",
      "include_colab_link": true
    },
    "kernelspec": {
      "name": "python3",
      "display_name": "Python 3"
    },
    "language_info": {
      "name": "python"
    }
  },
  "cells": [
    {
      "cell_type": "markdown",
      "metadata": {
        "id": "view-in-github",
        "colab_type": "text"
      },
      "source": [
        "<a href=\"https://colab.research.google.com/github/mancher07/EmiReproductor/blob/main/UpdatePiP_01.ipynb\" target=\"_parent\"><img src=\"https://colab.research.google.com/assets/colab-badge.svg\" alt=\"Open In Colab\"/></a>"
      ]
    },
    {
      "cell_type": "code",
      "source": [
        "!pip install virtualenv\n",
        "!virtualenv myenv\n",
        "!source myenv/bin/activate"
      ],
      "metadata": {
        "id": "12tcXR41twdF"
      },
      "execution_count": null,
      "outputs": []
    },
    {
      "cell_type": "code",
      "source": [
        "\n",
        "!myenv/bin/pip install --extra-index-url https://download.pytorch.org/whl/cu117 torch torchvision torchaudio"
      ],
      "metadata": {
        "id": "IN-YgCYkuwU6"
      },
      "execution_count": null,
      "outputs": []
    },
    {
      "cell_type": "code",
      "source": [
        "!myenv/bin/pip freeze > requirements.txt"
      ],
      "metadata": {
        "id": "Km-jINA9u6Ao"
      },
      "execution_count": null,
      "outputs": []
    },
    {
      "cell_type": "code",
      "source": [
        "from google.colab import files\n",
        "files.download('requirements.txt')"
      ],
      "metadata": {
        "id": "IY34pI4zu8l7"
      },
      "execution_count": null,
      "outputs": []
    }
  ]
}